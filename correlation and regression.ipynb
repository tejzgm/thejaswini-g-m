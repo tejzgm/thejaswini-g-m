{
 "cells": [
  {
   "cell_type": "markdown",
   "id": "41e395a7",
   "metadata": {},
   "source": [
    "# Case Study on Correlation and Regression"
   ]
  },
  {
   "cell_type": "markdown",
   "id": "0fe8a03f",
   "metadata": {},
   "source": [
    "A textile company regularly spent money on five advertising companies for their\n",
    "ads. (Dataset added along with)"
   ]
  },
  {
   "cell_type": "code",
   "execution_count": 12,
   "id": "3972c97f",
   "metadata": {},
   "outputs": [],
   "source": [
    "import pandas as pd\n",
    "import numpy as np\n",
    "import matplotlib.pyplot as plt\n",
    "import seaborn as sns"
   ]
  },
  {
   "cell_type": "markdown",
   "id": "aa41d696",
   "metadata": {},
   "source": [
    "First, we have to read the dataset in python:"
   ]
  },
  {
   "cell_type": "code",
   "execution_count": 13,
   "id": "3bd671f5",
   "metadata": {},
   "outputs": [
    {
     "name": "stdout",
     "output_type": "stream",
     "text": [
      "C:\\Users\\windows\n"
     ]
    }
   ],
   "source": [
    "cd"
   ]
  },
  {
   "cell_type": "code",
   "execution_count": 14,
   "id": "d863c7cf",
   "metadata": {},
   "outputs": [
    {
     "name": "stdout",
     "output_type": "stream",
     "text": [
      "C:\\Users\\windows\\Downloads\n"
     ]
    }
   ],
   "source": [
    "cd C:\\Users\\windows\\Downloads"
   ]
  },
  {
   "cell_type": "code",
   "execution_count": 15,
   "id": "1d2d7ebe",
   "metadata": {},
   "outputs": [],
   "source": [
    "data = pd.read_csv('Add_sales_data_2018.csv')"
   ]
  },
  {
   "cell_type": "code",
   "execution_count": 7,
   "id": "209dce37",
   "metadata": {},
   "outputs": [
    {
     "data": {
      "text/html": [
       "<div>\n",
       "<style scoped>\n",
       "    .dataframe tbody tr th:only-of-type {\n",
       "        vertical-align: middle;\n",
       "    }\n",
       "\n",
       "    .dataframe tbody tr th {\n",
       "        vertical-align: top;\n",
       "    }\n",
       "\n",
       "    .dataframe thead th {\n",
       "        text-align: right;\n",
       "    }\n",
       "</style>\n",
       "<table border=\"1\" class=\"dataframe\">\n",
       "  <thead>\n",
       "    <tr style=\"text-align: right;\">\n",
       "      <th></th>\n",
       "      <th>Date</th>\n",
       "      <th>Add1(in Thousands)</th>\n",
       "      <th>Add2(in Thousands)</th>\n",
       "      <th>Add3(in Thousands)</th>\n",
       "      <th>Add4(in Thousands)</th>\n",
       "      <th>Add5(in Thousands)</th>\n",
       "      <th>Profit(in Thousands)</th>\n",
       "    </tr>\n",
       "  </thead>\n",
       "  <tbody>\n",
       "    <tr>\n",
       "      <th>0</th>\n",
       "      <td>2018-10-08</td>\n",
       "      <td>208.00</td>\n",
       "      <td>222.25</td>\n",
       "      <td>206.85</td>\n",
       "      <td>216.00</td>\n",
       "      <td>215.15</td>\n",
       "      <td>4093.065</td>\n",
       "    </tr>\n",
       "    <tr>\n",
       "      <th>1</th>\n",
       "      <td>2018-10-05</td>\n",
       "      <td>217.00</td>\n",
       "      <td>218.60</td>\n",
       "      <td>205.90</td>\n",
       "      <td>210.25</td>\n",
       "      <td>209.20</td>\n",
       "      <td>4042.448</td>\n",
       "    </tr>\n",
       "    <tr>\n",
       "      <th>2</th>\n",
       "      <td>2018-10-04</td>\n",
       "      <td>223.50</td>\n",
       "      <td>227.80</td>\n",
       "      <td>216.15</td>\n",
       "      <td>217.25</td>\n",
       "      <td>218.20</td>\n",
       "      <td>4213.819</td>\n",
       "    </tr>\n",
       "    <tr>\n",
       "      <th>3</th>\n",
       "      <td>2018-10-03</td>\n",
       "      <td>230.00</td>\n",
       "      <td>237.50</td>\n",
       "      <td>225.75</td>\n",
       "      <td>226.45</td>\n",
       "      <td>227.60</td>\n",
       "      <td>4391.665</td>\n",
       "    </tr>\n",
       "    <tr>\n",
       "      <th>4</th>\n",
       "      <td>2018-10-01</td>\n",
       "      <td>234.55</td>\n",
       "      <td>234.60</td>\n",
       "      <td>221.05</td>\n",
       "      <td>230.30</td>\n",
       "      <td>230.90</td>\n",
       "      <td>4350.683</td>\n",
       "    </tr>\n",
       "    <tr>\n",
       "      <th>...</th>\n",
       "      <td>...</td>\n",
       "      <td>...</td>\n",
       "      <td>...</td>\n",
       "      <td>...</td>\n",
       "      <td>...</td>\n",
       "      <td>...</td>\n",
       "      <td>...</td>\n",
       "    </tr>\n",
       "    <tr>\n",
       "      <th>200</th>\n",
       "      <td>2017-12-14</td>\n",
       "      <td>288.00</td>\n",
       "      <td>288.25</td>\n",
       "      <td>279.20</td>\n",
       "      <td>284.50</td>\n",
       "      <td>284.30</td>\n",
       "      <td>5374.105</td>\n",
       "    </tr>\n",
       "    <tr>\n",
       "      <th>201</th>\n",
       "      <td>2017-12-13</td>\n",
       "      <td>290.00</td>\n",
       "      <td>292.50</td>\n",
       "      <td>282.20</td>\n",
       "      <td>284.80</td>\n",
       "      <td>284.45</td>\n",
       "      <td>5439.655</td>\n",
       "    </tr>\n",
       "    <tr>\n",
       "      <th>202</th>\n",
       "      <td>2017-12-12</td>\n",
       "      <td>298.60</td>\n",
       "      <td>298.60</td>\n",
       "      <td>286.65</td>\n",
       "      <td>287.45</td>\n",
       "      <td>287.80</td>\n",
       "      <td>5545.013</td>\n",
       "    </tr>\n",
       "    <tr>\n",
       "      <th>203</th>\n",
       "      <td>2017-12-11</td>\n",
       "      <td>290.00</td>\n",
       "      <td>299.55</td>\n",
       "      <td>285.90</td>\n",
       "      <td>297.85</td>\n",
       "      <td>298.35</td>\n",
       "      <td>5565.444</td>\n",
       "    </tr>\n",
       "    <tr>\n",
       "      <th>204</th>\n",
       "      <td>2017-12-08</td>\n",
       "      <td>287.55</td>\n",
       "      <td>289.90</td>\n",
       "      <td>285.05</td>\n",
       "      <td>288.05</td>\n",
       "      <td>288.45</td>\n",
       "      <td>5421.842</td>\n",
       "    </tr>\n",
       "  </tbody>\n",
       "</table>\n",
       "<p>205 rows × 7 columns</p>\n",
       "</div>"
      ],
      "text/plain": [
       "           Date  Add1(in Thousands)  Add2(in Thousands)  Add3(in Thousands)  \\\n",
       "0    2018-10-08              208.00              222.25              206.85   \n",
       "1    2018-10-05              217.00              218.60              205.90   \n",
       "2    2018-10-04              223.50              227.80              216.15   \n",
       "3    2018-10-03              230.00              237.50              225.75   \n",
       "4    2018-10-01              234.55              234.60              221.05   \n",
       "..          ...                 ...                 ...                 ...   \n",
       "200  2017-12-14              288.00              288.25              279.20   \n",
       "201  2017-12-13              290.00              292.50              282.20   \n",
       "202  2017-12-12              298.60              298.60              286.65   \n",
       "203  2017-12-11              290.00              299.55              285.90   \n",
       "204  2017-12-08              287.55              289.90              285.05   \n",
       "\n",
       "     Add4(in Thousands)  Add5(in Thousands)  Profit(in Thousands)  \n",
       "0                216.00              215.15              4093.065  \n",
       "1                210.25              209.20              4042.448  \n",
       "2                217.25              218.20              4213.819  \n",
       "3                226.45              227.60              4391.665  \n",
       "4                230.30              230.90              4350.683  \n",
       "..                  ...                 ...                   ...  \n",
       "200              284.50              284.30              5374.105  \n",
       "201              284.80              284.45              5439.655  \n",
       "202              287.45              287.80              5545.013  \n",
       "203              297.85              298.35              5565.444  \n",
       "204              288.05              288.45              5421.842  \n",
       "\n",
       "[205 rows x 7 columns]"
      ]
     },
     "execution_count": 7,
     "metadata": {},
     "output_type": "execute_result"
    }
   ],
   "source": [
    "data"
   ]
  },
  {
   "cell_type": "markdown",
   "id": "d312731d",
   "metadata": {},
   "source": [
    "# 1. First of all, check whether there is any relationship between the amount spent for advertising through five different companies and profit generated."
   ]
  },
  {
   "cell_type": "code",
   "execution_count": 23,
   "id": "cb19cbd7",
   "metadata": {},
   "outputs": [
    {
     "data": {
      "text/plain": [
       "<AxesSubplot:>"
      ]
     },
     "execution_count": 23,
     "metadata": {},
     "output_type": "execute_result"
    },
    {
     "data": {
      "image/png": "[encoded data removed]",
      "text/plain": [
       "<Figure size 720x288 with 2 Axes>"
      ]
     },
     "metadata": {
      "needs_background": "light"
     },
     "output_type": "display_data"
    }
   ],
   "source": [
    "correlation_data = data.corr()\n",
    "plt.subplots(figsize=(10,4))\n",
    "sns.heatmap(correlation_data,fmt='.4g',vmin=-2,vmax=2,annot=True,linewidths=0.2,cmap='Blues')"
   ]
  },
  {
   "cell_type": "markdown",
   "id": "a04de46d",
   "metadata": {},
   "source": [
    "Insights:\n",
    "    \n",
    "   The above correlation heat map shows a strong positive correlation between the amount spent for advertising and profit generated in all the five companies"
   ]
  },
  {
   "cell_type": "markdown",
   "id": "4810b539",
   "metadata": {},
   "source": [
    "# 2. Build a regression model to predict the profit from the given data and comment your findings on it."
   ]
  },
  {
   "cell_type": "code",
   "execution_count": 24,
   "id": "fce6c815",
   "metadata": {},
   "outputs": [],
   "source": [
    "y= data['Profit(in Thousands)']\n",
    "X= data.drop(['Date','Profit(in Thousands)'],axis=1)"
   ]
  },
  {
   "cell_type": "code",
   "execution_count": 25,
   "id": "b442d76e",
   "metadata": {},
   "outputs": [],
   "source": [
    "from sklearn.model_selection import train_test_split\n",
    "\n",
    "X_train, X_test, y_train, y_test = train_test_split(X, y, random_state=43, test_size = 0.25)\n",
    "\n",
    "from sklearn import linear_model\n",
    "\n",
    "lr = linear_model.LinearRegression()\n",
    "model = lr.fit(X_train, y_train)\n",
    "\n",
    "prediction_model=model.predict(X_test)"
   ]
  },
  {
   "cell_type": "code",
   "execution_count": 26,
   "id": "1d37a378",
   "metadata": {},
   "outputs": [
    {
     "name": "stdout",
     "output_type": "stream",
     "text": [
      "56     4947.720\n",
      "37     4480.363\n",
      "67     5001.615\n",
      "79     5013.207\n",
      "80     5043.705\n",
      "155    5078.636\n",
      "182    5956.323\n",
      "10     4411.775\n",
      "129    5140.372\n",
      "62     5234.487\n",
      "65     5075.858\n",
      "17     4326.782\n",
      "134    4934.682\n",
      "200    5374.105\n",
      "148    5190.758\n",
      "38     4486.380\n",
      "176    5858.340\n",
      "151    5146.949\n",
      "93     4705.198\n",
      "29     4482.183\n",
      "0      4093.065\n",
      "2      4213.819\n",
      "143    5134.657\n",
      "184    5962.336\n",
      "95     4623.793\n",
      "122    5167.878\n",
      "189    5938.474\n",
      "39     4506.279\n",
      "66     5038.222\n",
      "19     4193.095\n",
      "11     4435.571\n",
      "45     4606.340\n",
      "41     4453.205\n",
      "92     4763.690\n",
      "171    5792.175\n",
      "1      4042.448\n",
      "57     5071.736\n",
      "193    5745.806\n",
      "172    5789.791\n",
      "121    5184.204\n",
      "196    5676.934\n",
      "139    5300.437\n",
      "156    5137.534\n",
      "82     5034.726\n",
      "163    5267.657\n",
      "185    5903.253\n",
      "174    5866.196\n",
      "12     4464.110\n",
      "55     4760.877\n",
      "77     5187.445\n",
      "22     4523.704\n",
      "188    5880.541\n",
      "Name: Profit(in Thousands), dtype: float64\n"
     ]
    }
   ],
   "source": [
    "print(y_test)"
   ]
  },
  {
   "cell_type": "code",
   "execution_count": 27,
   "id": "97edc11d",
   "metadata": {},
   "outputs": [
    {
     "name": "stdout",
     "output_type": "stream",
     "text": [
      "[4947.72  4480.363 5001.615 5013.207 5043.705 5078.636 5956.323 4411.775\n",
      " 5140.372 5234.487 5075.858 4326.782 4934.682 5374.105 5190.758 4486.38\n",
      " 5858.34  5146.949 4705.198 4482.183 4093.065 4213.819 5134.657 5962.336\n",
      " 4623.793 5167.878 5938.474 4506.279 5038.222 4193.095 4435.571 4606.34\n",
      " 4453.205 4763.69  5792.175 4042.448 5071.736 5745.806 5789.791 5184.204\n",
      " 5676.934 5300.437 5137.534 5034.726 5267.657 5903.253 5866.196 4464.11\n",
      " 4760.877 5187.445 4523.704 5880.541]\n"
     ]
    }
   ],
   "source": [
    "print(prediction_model)"
   ]
  },
  {
   "cell_type": "code",
   "execution_count": 28,
   "id": "be5c63e0",
   "metadata": {},
   "outputs": [
    {
     "name": "stdout",
     "output_type": "stream",
     "text": [
      "MSE is :  1.8015039302236613e-24\n"
     ]
    }
   ],
   "source": [
    "from sklearn.metrics import mean_squared_error\n",
    "\n",
    "print('MSE is : ',mean_squared_error(y_test,prediction_model))"
   ]
  },
  {
   "cell_type": "markdown",
   "id": "e043a67b",
   "metadata": {},
   "source": [
    "Insights:\n",
    "    \n",
    "   the mean squared error value is more than one"
   ]
  },
  {
   "cell_type": "markdown",
   "id": "925733f0",
   "metadata": {},
   "source": [
    "# 3. Predict the profit generated by the company, if they wish to spend the following amount for advertisement."
   ]
  },
  {
   "cell_type": "code",
   "execution_count": 29,
   "id": "446d4e05",
   "metadata": {},
   "outputs": [
    {
     "data": {
      "text/plain": [
       "5820.060000000001"
      ]
     },
     "execution_count": 29,
     "metadata": {},
     "output_type": "execute_result"
    }
   ],
   "source": [
    "make_prediction = [[290,312,309,298,320]]\n",
    "model.predict(make_prediction).item()"
   ]
  },
  {
   "cell_type": "markdown",
   "id": "6edfa500",
   "metadata": {},
   "source": [
    "Insights:\n",
    "    \n",
    "   The prediction denotes the profit and it's more than 5820 in thousands."
   ]
  },
  {
   "cell_type": "code",
   "execution_count": null,
   "id": "2cf09d8c",
   "metadata": {},
   "outputs": [],
   "source": []
  }
 ],
 "metadata": {
  "kernelspec": {
   "display_name": "Python 3",
   "language": "python",
   "name": "python3"
  },
  "language_info": {
   "codemirror_mode": {
    "name": "ipython",
    "version": 3
   },
   "file_extension": ".py",
   "mimetype": "text/x-python",
   "name": "python",
   "nbconvert_exporter": "python",
   "pygments_lexer": "ipython3",
   "version": "3.8.8"
  }
 },
 "nbformat": 4,
 "nbformat_minor": 5
}
